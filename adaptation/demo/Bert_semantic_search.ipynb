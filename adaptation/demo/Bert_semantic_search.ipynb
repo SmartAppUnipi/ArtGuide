{
  "nbformat": 4,
  "nbformat_minor": 0,
  "metadata": {
    "colab": {
      "name": "Bert_semantic_search.ipynb",
      "provenance": []
    },
    "kernelspec": {
      "name": "python3",
      "display_name": "Python 3"
    }
  },
  "cells": [
    {
      "cell_type": "markdown",
      "metadata": {
        "id": "icDn-23VQYdE",
        "colab_type": "text"
      },
      "source": [
        "1) Install the library"
      ]
    },
    {
      "cell_type": "code",
      "metadata": {
        "id": "hC2Q46Oi9uqe",
        "colab_type": "code",
        "outputId": "7c5fe7b5-93f7-49e8-b84c-528884b58087",
        "colab": {
          "base_uri": "https://localhost:8080/",
          "height": 901
        }
      },
      "source": [
        "!pip3 install -U sentence-transformers"
      ],
      "execution_count": 0,
      "outputs": [
        {
          "output_type": "stream",
          "text": [
            "Traceback (most recent call last):\n",
            "  File \"<frozen importlib._bootstrap>\", line 888, in _find_spec\n",
            "AttributeError: '_SixMetaPathImporter' object has no attribute 'find_spec'\n",
            "\n",
            "During handling of the above exception, another exception occurred:\n",
            "\n",
            "Traceback (most recent call last):\n",
            "  File \"/usr/local/bin/pip3\", line 5, in <module>\n",
            "    from pip._internal.main import main\n",
            "  File \"/usr/local/lib/python3.6/dist-packages/pip/_internal/main.py\", line 13, in <module>\n",
            "  File \"/usr/local/lib/python3.6/dist-packages/pip/_internal/cli/autocompletion.py\", line 11, in <module>\n",
            "    from pip._internal.cli.main_parser import create_main_parser\n",
            "  File \"/usr/local/lib/python3.6/dist-packages/pip/_internal/cli/main_parser.py\", line 7, in <module>\n",
            "    from pip._internal.cli import cmdoptions\n",
            "  File \"/usr/local/lib/python3.6/dist-packages/pip/_internal/cli/cmdoptions.py\", line 25, in <module>\n",
            "    from pip._internal.locations import USER_CACHE_DIR, get_src_prefix\n",
            "  File \"/usr/local/lib/python3.6/dist-packages/pip/_internal/locations.py\", line 18, in <module>\n",
            "    from pip._internal.utils import appdirs\n",
            "  File \"/usr/local/lib/python3.6/dist-packages/pip/_internal/utils/appdirs.py\", line 16, in <module>\n",
            "    from pip._internal.utils.compat import WINDOWS, expanduser\n",
            "  File \"/usr/local/lib/python3.6/dist-packages/pip/_internal/utils/compat.py\", line 17, in <module>\n",
            "    from pip._vendor.urllib3.util import IS_PYOPENSSL\n",
            "  File \"/usr/local/lib/python3.6/dist-packages/pip/_vendor/urllib3/__init__.py\", line 7, in <module>\n",
            "    from .connectionpool import HTTPConnectionPool, HTTPSConnectionPool, connection_from_url\n",
            "  File \"/usr/local/lib/python3.6/dist-packages/pip/_vendor/urllib3/connectionpool.py\", line 11, in <module>\n",
            "    from .exceptions import (\n",
            "  File \"/usr/local/lib/python3.6/dist-packages/pip/_vendor/urllib3/exceptions.py\", line 2, in <module>\n",
            "    from .packages.six.moves.http_client import IncompleteRead as httplib_IncompleteRead\n",
            "  File \"<frozen importlib._bootstrap>\", line 971, in _find_and_load\n",
            "  File \"<frozen importlib._bootstrap>\", line 951, in _find_and_load_unlocked\n",
            "  File \"<frozen importlib._bootstrap>\", line 890, in _find_spec\n",
            "  File \"<frozen importlib._bootstrap>\", line 867, in _find_spec_legacy\n",
            "  File \"<frozen importlib._bootstrap>\", line 449, in spec_from_loader\n",
            "  File \"/usr/local/lib/python3.6/dist-packages/pip/_vendor/urllib3/packages/six.py\", line 212, in is_package\n",
            "    return hasattr(self.__get_module(fullname), \"__path__\")\n",
            "  File \"/usr/local/lib/python3.6/dist-packages/pip/_vendor/urllib3/packages/six.py\", line 116, in __getattr__\n",
            "    _module = self._resolve()\n",
            "  File \"/usr/local/lib/python3.6/dist-packages/pip/_vendor/urllib3/packages/six.py\", line 113, in _resolve\n",
            "    return _import_module(self.mod)\n",
            "  File \"/usr/local/lib/python3.6/dist-packages/pip/_vendor/urllib3/packages/six.py\", line 82, in _import_module\n",
            "    __import__(name)\n",
            "  File \"/usr/lib/python3.6/http/client.py\", line 71, in <module>\n",
            "    import email.parser\n",
            "  File \"/usr/lib/python3.6/email/parser.py\", line 12, in <module>\n",
            "    from email.feedparser import FeedParser, BytesFeedParser\n",
            "  File \"/usr/lib/python3.6/email/feedparser.py\", line 26, in <module>\n",
            "    from email import errors\n",
            "  File \"/usr/lib/python3.6/email/errors.py\", line 104, in <module>\n",
            "    class ObsoleteHeaderDefect(HeaderDefect):\n",
            "  File \"/usr/lib/python3.6/email/errors.py\", line 104, in ObsoleteHeaderDefect\n",
            "    class ObsoleteHeaderDefect(HeaderDefect):\n",
            "KeyboardInterrupt\n"
          ],
          "name": "stdout"
        }
      ]
    },
    {
      "cell_type": "code",
      "metadata": {
        "id": "w6EB2QBUIsR1",
        "colab_type": "code",
        "outputId": "78124103-2a19-43ca-8dea-f5020449e395",
        "colab": {
          "base_uri": "https://localhost:8080/",
          "height": 34
        }
      },
      "source": [
        "!git clone https://github.com/berkmancenter/mediacloud-sentence-splitter.git"
      ],
      "execution_count": 0,
      "outputs": [
        {
          "output_type": "stream",
          "text": [
            "fatal: destination path 'mediacloud-sentence-splitter' already exists and is not an empty directory.\n"
          ],
          "name": "stdout"
        }
      ]
    },
    {
      "cell_type": "code",
      "metadata": {
        "id": "jA37HSg_HGfn",
        "colab_type": "code",
        "colab": {}
      },
      "source": [
        "from sentence_transformers import SentenceTransformer\n",
        "import numpy as np\n",
        "import scipy\n",
        "import json\n",
        "#from sentence_splitter import SentenceSplitter, split_text_into_sentences\n"
      ],
      "execution_count": 0,
      "outputs": []
    },
    {
      "cell_type": "markdown",
      "metadata": {
        "id": "wkX-gl6jUMS4",
        "colab_type": "text"
      },
      "source": [
        "Load the data\n"
      ]
    },
    {
      "cell_type": "code",
      "metadata": {
        "id": "12kn-2S5QyoB",
        "colab_type": "code",
        "colab": {}
      },
      "source": [
        "res = []\n",
        "with open(\"input.txt\") as file:\n",
        "  res = file.readlines()\n",
        "res = [x for x in res if x != \"\\n\"]\n",
        "data = res"
      ],
      "execution_count": 0,
      "outputs": []
    },
    {
      "cell_type": "markdown",
      "metadata": {
        "id": "kZDctHVCUQtJ",
        "colab_type": "text"
      },
      "source": [
        "Embed the text into vectors (slow)\n"
      ]
    },
    {
      "cell_type": "code",
      "metadata": {
        "id": "zPALmERFSvLq",
        "colab_type": "code",
        "colab": {}
      },
      "source": [
        "corpus_embeddings = embedder.encode(data)"
      ],
      "execution_count": 0,
      "outputs": []
    },
    {
      "cell_type": "markdown",
      "metadata": {
        "id": "XT1YJOjxVQL-",
        "colab_type": "text"
      },
      "source": [
        "chose queries -> we can also concatate world or do different queries. As we want\n"
      ]
    },
    {
      "cell_type": "code",
      "metadata": {
        "id": "PUf98DEQNPrM",
        "colab_type": "code",
        "colab": {}
      },
      "source": [
        "queries = ['hystory of the painting', 'art of the artist.', 'drawing techniques.', \"subject of the painting\", \"culture\"]\n",
        "query_embeddings = embedder.encode(queries)"
      ],
      "execution_count": 0,
      "outputs": []
    },
    {
      "cell_type": "markdown",
      "metadata": {
        "id": "n-nQzL2FVSd4",
        "colab_type": "text"
      },
      "source": [
        "Find text pieces more similar to the query\n"
      ]
    },
    {
      "cell_type": "code",
      "metadata": {
        "id": "A1KNXSJ_NWsv",
        "colab_type": "code",
        "outputId": "ce664ab6-ad1e-4df4-9860-75fdd6d468ce",
        "colab": {
          "base_uri": "https://localhost:8080/",
          "height": 1000
        }
      },
      "source": [
        "K = 6\n",
        "for query, query_embedding in zip(queries, query_embeddings):\n",
        "    distances = scipy.spatial.distance.cdist([query_embedding], corpus_embeddings, \"cosine\")[0]\n",
        "    print(query + \"\\n\")\n",
        "    indexes =  np.argsort(-distances)\n",
        "    for i in range(K):\n",
        "      print(data[indexes[i]])\n",
        "    print(\"\\n\\n\")"
      ],
      "execution_count": 0,
      "outputs": [
        {
          "output_type": "stream",
          "text": [
            "hystory of the painting\n",
            "\n",
            "In 2014, 9.3 million people visited the Louvre. Former director Henri Loyrette reckoned that \"80 percent of the people only want to see the Mona Lisa.\"\n",
            "\n",
            "Before the 1962–1963 tour, the painting was assessed for insurance at $100 million (equivalent to $650 million in 2018), making it, in practice, the most valued painting in the world. The insurance was not purchased; instead, more was spent on security.\n",
            "\n",
            "Because the Mona Lisa's poplar support expands and contracts with changes in humidity, the picture has experienced some warping. In response to warping and swelling experienced during its storage during World War II, and to prepare the picture for an exhibit to honour the anniversary of Leonardo's 500th birthday, the Mona Lisa was fitted in 1951 with a flexible oak frame with beech crosspieces. This flexible frame, which is used in addition to the decorative frame described below, exerts pressure on the panel to keep it from warping further. In 1970, the beech crosspieces were switched to maple after it was found that the beechwood had been infested with insects. In 2004–05, a conservation and study team replaced the maple crosspieces with sycamore ones, and an additional metal crosspiece was added for scientific measurement of the panel's warp.\n",
            "\n",
            "Peruggia was an Italian patriot who believed that Leonardo's painting should have been returned to an Italian museum. Peruggia may have been motivated by an associate whose copies of the original would significantly rise in value after the painting's theft. After having kept the Mona Lisa in his apartment for two years, Peruggia grew impatient and was caught when he attempted to sell it to directors of the Uffizi Gallery in Florence. It was exhibited in the Uffizi Gallery for over two weeks and returned to the Louvre on 4 January 1914. Peruggia served six months in prison for the crime and was hailed for his patriotism in Italy. A year after the theft, Saturday Evening Post journalist Karl Decker met an alleged accomplice named Eduardo de Valfierno, who claimed to have masterminded the theft. Forger Yves Chaudron was to have created six copies of the painting to sell in the US while concealing the location of the original. Decker published this account of the theft in 1932.\n",
            "\n",
            "In 2014, a France 24 article suggested that the painting could be sold to help ease the national debt, although it was noted that the Mona Lisa and other such art works were prohibited from being sold due to French heritage law, which states that \"Collections held in museums that belong to public bodies are considered public property and cannot be otherwise.\"\n",
            "\n",
            "From December 1962 to March 1963, the French government lent it to the United States to be displayed in New York City and Washington, D.C. It was shipped on the new ocean liner SS France. In New York, an estimated 1.7 million people queued \"in order to cast a glance at the Mona Lisa for 20 seconds or so.\" While exhibited in the Metropolitan Museum of Art, the painting was nearly drenched in water because of a faulty sprinkler, but the painting's bullet-proof glass case protected it.\n",
            "\n",
            "\n",
            "\n",
            "\n",
            "art of the artist.\n",
            "\n",
            "In 2014, 9.3 million people visited the Louvre. Former director Henri Loyrette reckoned that \"80 percent of the people only want to see the Mona Lisa.\"\n",
            "\n",
            "Because the Mona Lisa's poplar support expands and contracts with changes in humidity, the picture has experienced some warping. In response to warping and swelling experienced during its storage during World War II, and to prepare the picture for an exhibit to honour the anniversary of Leonardo's 500th birthday, the Mona Lisa was fitted in 1951 with a flexible oak frame with beech crosspieces. This flexible frame, which is used in addition to the decorative frame described below, exerts pressure on the panel to keep it from warping further. In 1970, the beech crosspieces were switched to maple after it was found that the beechwood had been infested with insects. In 2004–05, a conservation and study team replaced the maple crosspieces with sycamore ones, and an additional metal crosspiece was added for scientific measurement of the panel's warp.\n",
            "\n",
            "From December 1962 to March 1963, the French government lent it to the United States to be displayed in New York City and Washington, D.C. It was shipped on the new ocean liner SS France. In New York, an estimated 1.7 million people queued \"in order to cast a glance at the Mona Lisa for 20 seconds or so.\" While exhibited in the Metropolitan Museum of Art, the painting was nearly drenched in water because of a faulty sprinkler, but the painting's bullet-proof glass case protected it.\n",
            "\n",
            "Before the 1962–1963 tour, the painting was assessed for insurance at $100 million (equivalent to $650 million in 2018), making it, in practice, the most valued painting in the world. The insurance was not purchased; instead, more was spent on security.\n",
            "\n",
            "On 30 December 1956, a rock was thrown at the painting in the Louvre, shattering its glass case and dislodging a speck of pigment near the left elbow, which was later restored. The painting was protected by glass because a few years earlier a man who claimed to be in love with the painting had cut it with a razor blade and tried to steal it.The use of bulletproof glass has shielded the Mona Lisa from subsequent attacks. In April 1974, while the painting was on display at the Tokyo National Museum, a woman sprayed it with red paint as a protest against that museum's failure to provide access for disabled people. On 2 August 2009, a Russian woman, distraught over being denied French citizenship, threw a ceramic teacup purchased at the Louvre; the vessel shattered against the glass enclosure. In both cases, the painting was undamaged.\n",
            "\n",
            "Peruggia was an Italian patriot who believed that Leonardo's painting should have been returned to an Italian museum. Peruggia may have been motivated by an associate whose copies of the original would significantly rise in value after the painting's theft. After having kept the Mona Lisa in his apartment for two years, Peruggia grew impatient and was caught when he attempted to sell it to directors of the Uffizi Gallery in Florence. It was exhibited in the Uffizi Gallery for over two weeks and returned to the Louvre on 4 January 1914. Peruggia served six months in prison for the crime and was hailed for his patriotism in Italy. A year after the theft, Saturday Evening Post journalist Karl Decker met an alleged accomplice named Eduardo de Valfierno, who claimed to have masterminded the theft. Forger Yves Chaudron was to have created six copies of the painting to sell in the US while concealing the location of the original. Decker published this account of the theft in 1932.\n",
            "\n",
            "\n",
            "\n",
            "\n",
            "drawing techniques.\n",
            "\n",
            "Before the 1962–1963 tour, the painting was assessed for insurance at $100 million (equivalent to $650 million in 2018), making it, in practice, the most valued painting in the world. The insurance was not purchased; instead, more was spent on security.\n",
            "\n",
            "On 30 December 1956, a rock was thrown at the painting in the Louvre, shattering its glass case and dislodging a speck of pigment near the left elbow, which was later restored. The painting was protected by glass because a few years earlier a man who claimed to be in love with the painting had cut it with a razor blade and tried to steal it.The use of bulletproof glass has shielded the Mona Lisa from subsequent attacks. In April 1974, while the painting was on display at the Tokyo National Museum, a woman sprayed it with red paint as a protest against that museum's failure to provide access for disabled people. On 2 August 2009, a Russian woman, distraught over being denied French citizenship, threw a ceramic teacup purchased at the Louvre; the vessel shattered against the glass enclosure. In both cases, the painting was undamaged.\n",
            "\n",
            "In 2014, 9.3 million people visited the Louvre. Former director Henri Loyrette reckoned that \"80 percent of the people only want to see the Mona Lisa.\"\n",
            "\n",
            "From December 1962 to March 1963, the French government lent it to the United States to be displayed in New York City and Washington, D.C. It was shipped on the new ocean liner SS France. In New York, an estimated 1.7 million people queued \"in order to cast a glance at the Mona Lisa for 20 seconds or so.\" While exhibited in the Metropolitan Museum of Art, the painting was nearly drenched in water because of a faulty sprinkler, but the painting's bullet-proof glass case protected it.\n",
            "\n",
            "Peruggia was an Italian patriot who believed that Leonardo's painting should have been returned to an Italian museum. Peruggia may have been motivated by an associate whose copies of the original would significantly rise in value after the painting's theft. After having kept the Mona Lisa in his apartment for two years, Peruggia grew impatient and was caught when he attempted to sell it to directors of the Uffizi Gallery in Florence. It was exhibited in the Uffizi Gallery for over two weeks and returned to the Louvre on 4 January 1914. Peruggia served six months in prison for the crime and was hailed for his patriotism in Italy. A year after the theft, Saturday Evening Post journalist Karl Decker met an alleged accomplice named Eduardo de Valfierno, who claimed to have masterminded the theft. Forger Yves Chaudron was to have created six copies of the painting to sell in the US while concealing the location of the original. Decker published this account of the theft in 1932.\n",
            "\n",
            "On 21 August 1911, the painting was stolen from the Louvre. The missing painting was first noticed the next day by painter Louis Béroud. After some confusion as to whether the painting was being photographed somewhere, the Louvre was closed for a week for investigation.French poet Guillaume Apollinaire came under suspicion and was arrested and imprisoned. Apollinaire implicated his friend Pablo Picasso, who was brought in for questioning. Both were later exonerated. The real culprit was Louvre employee Vincenzo Peruggia, who had helped construct the painting's glass case. He carried out the theft by entering the building during regular hours, hiding in a broom closet, and walking out with the painting hidden under his coat after the museum had closed.\n",
            "\n",
            "\n",
            "\n",
            "\n",
            "subject of the painting\n",
            "\n",
            "In 2014, 9.3 million people visited the Louvre. Former director Henri Loyrette reckoned that \"80 percent of the people only want to see the Mona Lisa.\"\n",
            "\n",
            "Before the 1962–1963 tour, the painting was assessed for insurance at $100 million (equivalent to $650 million in 2018), making it, in practice, the most valued painting in the world. The insurance was not purchased; instead, more was spent on security.\n",
            "\n",
            "Because the Mona Lisa's poplar support expands and contracts with changes in humidity, the picture has experienced some warping. In response to warping and swelling experienced during its storage during World War II, and to prepare the picture for an exhibit to honour the anniversary of Leonardo's 500th birthday, the Mona Lisa was fitted in 1951 with a flexible oak frame with beech crosspieces. This flexible frame, which is used in addition to the decorative frame described below, exerts pressure on the panel to keep it from warping further. In 1970, the beech crosspieces were switched to maple after it was found that the beechwood had been infested with insects. In 2004–05, a conservation and study team replaced the maple crosspieces with sycamore ones, and an additional metal crosspiece was added for scientific measurement of the panel's warp.\n",
            "\n",
            "Peruggia was an Italian patriot who believed that Leonardo's painting should have been returned to an Italian museum. Peruggia may have been motivated by an associate whose copies of the original would significantly rise in value after the painting's theft. After having kept the Mona Lisa in his apartment for two years, Peruggia grew impatient and was caught when he attempted to sell it to directors of the Uffizi Gallery in Florence. It was exhibited in the Uffizi Gallery for over two weeks and returned to the Louvre on 4 January 1914. Peruggia served six months in prison for the crime and was hailed for his patriotism in Italy. A year after the theft, Saturday Evening Post journalist Karl Decker met an alleged accomplice named Eduardo de Valfierno, who claimed to have masterminded the theft. Forger Yves Chaudron was to have created six copies of the painting to sell in the US while concealing the location of the original. Decker published this account of the theft in 1932.\n",
            "\n",
            "From December 1962 to March 1963, the French government lent it to the United States to be displayed in New York City and Washington, D.C. It was shipped on the new ocean liner SS France. In New York, an estimated 1.7 million people queued \"in order to cast a glance at the Mona Lisa for 20 seconds or so.\" While exhibited in the Metropolitan Museum of Art, the painting was nearly drenched in water because of a faulty sprinkler, but the painting's bullet-proof glass case protected it.\n",
            "\n",
            "On 30 December 1956, a rock was thrown at the painting in the Louvre, shattering its glass case and dislodging a speck of pigment near the left elbow, which was later restored. The painting was protected by glass because a few years earlier a man who claimed to be in love with the painting had cut it with a razor blade and tried to steal it.The use of bulletproof glass has shielded the Mona Lisa from subsequent attacks. In April 1974, while the painting was on display at the Tokyo National Museum, a woman sprayed it with red paint as a protest against that museum's failure to provide access for disabled people. On 2 August 2009, a Russian woman, distraught over being denied French citizenship, threw a ceramic teacup purchased at the Louvre; the vessel shattered against the glass enclosure. In both cases, the painting was undamaged.\n",
            "\n",
            "\n",
            "\n",
            "\n",
            "culture\n",
            "\n",
            "On 30 December 1956, a rock was thrown at the painting in the Louvre, shattering its glass case and dislodging a speck of pigment near the left elbow, which was later restored. The painting was protected by glass because a few years earlier a man who claimed to be in love with the painting had cut it with a razor blade and tried to steal it.The use of bulletproof glass has shielded the Mona Lisa from subsequent attacks. In April 1974, while the painting was on display at the Tokyo National Museum, a woman sprayed it with red paint as a protest against that museum's failure to provide access for disabled people. On 2 August 2009, a Russian woman, distraught over being denied French citizenship, threw a ceramic teacup purchased at the Louvre; the vessel shattered against the glass enclosure. In both cases, the painting was undamaged.\n",
            "\n",
            "From December 1962 to March 1963, the French government lent it to the United States to be displayed in New York City and Washington, D.C. It was shipped on the new ocean liner SS France. In New York, an estimated 1.7 million people queued \"in order to cast a glance at the Mona Lisa for 20 seconds or so.\" While exhibited in the Metropolitan Museum of Art, the painting was nearly drenched in water because of a faulty sprinkler, but the painting's bullet-proof glass case protected it.\n",
            "\n",
            "Peruggia was an Italian patriot who believed that Leonardo's painting should have been returned to an Italian museum. Peruggia may have been motivated by an associate whose copies of the original would significantly rise in value after the painting's theft. After having kept the Mona Lisa in his apartment for two years, Peruggia grew impatient and was caught when he attempted to sell it to directors of the Uffizi Gallery in Florence. It was exhibited in the Uffizi Gallery for over two weeks and returned to the Louvre on 4 January 1914. Peruggia served six months in prison for the crime and was hailed for his patriotism in Italy. A year after the theft, Saturday Evening Post journalist Karl Decker met an alleged accomplice named Eduardo de Valfierno, who claimed to have masterminded the theft. Forger Yves Chaudron was to have created six copies of the painting to sell in the US while concealing the location of the original. Decker published this account of the theft in 1932.\n",
            "\n",
            "On 21 August 1911, the painting was stolen from the Louvre. The missing painting was first noticed the next day by painter Louis Béroud. After some confusion as to whether the painting was being photographed somewhere, the Louvre was closed for a week for investigation.French poet Guillaume Apollinaire came under suspicion and was arrested and imprisoned. Apollinaire implicated his friend Pablo Picasso, who was brought in for questioning. Both were later exonerated. The real culprit was Louvre employee Vincenzo Peruggia, who had helped construct the painting's glass case. He carried out the theft by entering the building during regular hours, hiding in a broom closet, and walking out with the painting hidden under his coat after the museum had closed.\n",
            "\n",
            "In 2014, 9.3 million people visited the Louvre. Former director Henri Loyrette reckoned that \"80 percent of the people only want to see the Mona Lisa.\"\n",
            "\n",
            "Salvador Dalí, famous for his surrealist work, painted Self portrait as Mona Lisa in 1954. Andy Warhol created serigraph prints of multiple Mona Lisas, called Thirty Are Better than One, following the painting's visit to the United States in 1963. The French urban artist known pseudonymously as Invader has created versions of the Mona Lisa on city walls in Paris and Tokyo using a mosaic style. A 2014 New Yorker magazine cartoon parodies the supposed enigma of the Mona Lisa smile in an animation showing progressively more maniacal smiles.\n",
            "\n",
            "\n",
            "\n",
            "\n"
          ],
          "name": "stdout"
        }
      ]
    },
    {
      "cell_type": "markdown",
      "metadata": {
        "id": "R__Ome0GW3nG",
        "colab_type": "text"
      },
      "source": [
        "Reference:\n",
        "https://github.com/UKPLab/sentence-transformers\n"
      ]
    }
  ]
}