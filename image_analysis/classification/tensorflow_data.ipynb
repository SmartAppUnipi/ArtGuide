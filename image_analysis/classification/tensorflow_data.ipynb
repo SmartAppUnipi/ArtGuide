{
 "cells": [
  {
   "cell_type": "code",
   "execution_count": 62,
   "metadata": {},
   "outputs": [],
   "source": [
    "import matplotlib.pyplot as plt\n",
    "import pandas as pd\n",
    "import tensorflow as tf\n",
    "import numpy as np\n",
    "import shutil  \n",
    "\n",
    "import project_types as pt\n",
    "import codebase as cb\n",
    "import pandas as pd\n",
    "from IPython.display import Markdown\n",
    "\n",
    "def pmark(s):\n",
    "    display(Markdown(s))\n",
    "    \n",
    "def show(image, label):\n",
    "    plt.figure()\n",
    "    plt.imshow(image)\n",
    "    plt.title(label)\n",
    "    plt.axis('off')\n",
    "    \n",
    "pd.set_option('display.max_colwidth', -1)"
   ]
  },
  {
   "cell_type": "code",
   "execution_count": 63,
   "metadata": {},
   "outputs": [],
   "source": [
    "from importlib import reload\n",
    "reload(cb);\n",
    "reload(pt);"
   ]
  },
  {
   "cell_type": "markdown",
   "metadata": {},
   "source": [
    "Ensure to have the following file structure </br>\n",
    "image_analysis/models/ </br>\n",
    "├── project_types.py </br>\n",
    "├── ... </br>\n",
    "├── codebase.py </br>\n",
    "├── data/ </br>\n",
    "&emsp;&emsp;├── all_data_info.csv (https://www.kaggle.com/c/painter-by-numbers/)</br>\n",
    "&emsp;&emsp;├── train_1/ (keep consistency with project_types.py->pict_dset) </br>\n",
    "&emsp;&emsp;├── arch_style_v1/ (http://bit.ly/arch_style_v1) </br>"
   ]
  },
  {
   "cell_type": "markdown",
   "metadata": {},
   "source": [
    "# Architecture style"
   ]
  },
  {
   "cell_type": "code",
   "execution_count": 67,
   "metadata": {},
   "outputs": [
    {
     "name": "stdout",
     "output_type": "stream",
     "text": [
      "tf.Tensor(b'Colonial architecture', shape=(), dtype=string)\n"
     ]
    }
   ],
   "source": [
    "list_ds = tf.data.Dataset.list_files(pt.tf_archstyle)\n",
    "tf_arch_dset = list_ds.map(cb.parse_image_arch)\n",
    "\n",
    "iterator = iter(tf_arch_dset)\n",
    "print(next(iterator)[1])"
   ]
  },
  {
   "cell_type": "markdown",
   "metadata": {},
   "source": [
    "# Picture style"
   ]
  },
  {
   "cell_type": "code",
   "execution_count": 64,
   "metadata": {},
   "outputs": [],
   "source": [
    "list_ds = tf.data.Dataset.list_files(pt.tf_pictstyle)\n",
    "tf_pict_dset = list_ds.map(cb.parse_image_pict)"
   ]
  },
  {
   "cell_type": "markdown",
   "metadata": {},
   "source": [
    "# Tensorflow hub"
   ]
  },
  {
   "cell_type": "code",
   "execution_count": 42,
   "metadata": {},
   "outputs": [],
   "source": [
    "import tensorflow_hub as hub\n",
    "\n",
    "predictor = hub.KerasLayer(\"https://tfhub.dev/google/imagenet/inception_v3/feature_vector/4\", name='my_fanctastic_module')"
   ]
  },
  {
   "cell_type": "code",
   "execution_count": 43,
   "metadata": {},
   "outputs": [
    {
     "data": {
      "text/plain": [
       "<tf.Tensor: id=106483, shape=(1, 2048), dtype=float32, numpy=\n",
       "array([[0.67218596, 0.21975161, 1.0855156 , ..., 0.6555959 , 0.30132633,\n",
       "        0.0139719 ]], dtype=float32)>"
      ]
     },
     "execution_count": 43,
     "metadata": {},
     "output_type": "execute_result"
    }
   ],
   "source": [
    "predictor(image[tf.newaxis, ...])"
   ]
  }
 ],
 "metadata": {
  "kernelspec": {
   "display_name": "Python 3",
   "language": "python",
   "name": "python3"
  },
  "language_info": {
   "codemirror_mode": {
    "name": "ipython",
    "version": 3
   },
   "file_extension": ".py",
   "mimetype": "text/x-python",
   "name": "python",
   "nbconvert_exporter": "python",
   "pygments_lexer": "ipython3",
   "version": "3.7.4"
  }
 },
 "nbformat": 4,
 "nbformat_minor": 4
}
