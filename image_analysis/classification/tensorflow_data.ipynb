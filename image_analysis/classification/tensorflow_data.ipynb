{
 "cells": [
  {
   "cell_type": "code",
   "execution_count": 2,
   "metadata": {},
   "outputs": [],
   "source": [
    "import matplotlib.pyplot as plt\n",
    "import tensorflow as tf\n",
    "import numpy as np\n",
    "import shutil  \n",
    "\n",
    "import project_types as pt\n",
    "import codebase as cb\n",
    "import pandas as pd\n",
    "from IPython.display import Markdown\n",
    "\n",
    "def pmark(s):\n",
    "    display(Markdown(s))\n",
    "    \n",
    "def show(image, label):\n",
    "    plt.figure()\n",
    "    plt.imshow(image)\n",
    "    plt.title(label)\n",
    "    plt.axis('off')\n",
    "    \n",
    "pd.set_option('display.max_colwidth', -1)"
   ]
  },
  {
   "cell_type": "code",
   "execution_count": 3,
   "metadata": {},
   "outputs": [],
   "source": [
    "from importlib import reload\n",
    "reload(cb);\n",
    "reload(pt);"
   ]
  },
  {
   "cell_type": "markdown",
   "metadata": {},
   "source": [
    "Ensure to have the following file structure </br>\n",
    "image_analysis/models/ </br>\n",
    "├── project_types.py </br>\n",
    "├── ... </br>\n",
    "├── codebase.py </br>\n",
    "├── data/ </br>\n",
    "&emsp;&emsp;├── all_data_info.csv (https://www.kaggle.com/c/painter-by-numbers/)</br>\n",
    "&emsp;&emsp;├── train_1/ (keep consistency with project_types.py->pict_dset) </br>\n",
    "&emsp;&emsp;├── arch_style_v1/ (http://bit.ly/arch_style_v1) </br>"
   ]
  },
  {
   "cell_type": "markdown",
   "metadata": {},
   "source": [
    "# Picture style"
   ]
  },
  {
   "cell_type": "code",
   "execution_count": 24,
   "metadata": {},
   "outputs": [],
   "source": [
    "data = tf.data.Dataset.list_files(pt.tf_pictstyle)\n",
    "data = data.map(cb.parse_image_pict)\n",
    "data = data.batch(32)"
   ]
  },
  {
   "cell_type": "code",
   "execution_count": 29,
   "metadata": {},
   "outputs": [
    {
     "name": "stdout",
     "output_type": "stream",
     "text": [
      "Downloading data from https://github.com/Callidior/keras-applications/releases/download/efficientnet/efficientnet-b4_weights_tf_dim_ordering_tf_kernels_autoaugment_notop.h5\n",
      "71892992/71892840 [==============================] - 3s 0us/step\n"
     ]
    }
   ],
   "source": [
    "! pip install -U git+https://github.com/qubvel/efficientnet\n",
    "    \n",
    "import efficientnet.tfkeras as efn \n",
    "\n",
    "model = efn.EfficientNetB4(include_top=False, weights='imagenet')"
   ]
  },
  {
   "cell_type": "code",
   "execution_count": 28,
   "metadata": {},
   "outputs": [
    {
     "name": "stdout",
     "output_type": "stream",
     "text": [
      "Help on function EfficientNetB4 in module efficientnet.model:\n",
      "\n",
      "EfficientNetB4(include_top=True, weights='imagenet', input_tensor=None, input_shape=None, pooling=None, classes=1000, **kwargs)\n",
      "    Instantiates the EfficientNet architecture using given scaling coefficients.\n",
      "    Optionally loads weights pre-trained on ImageNet.\n",
      "    Note that the data format convention used by the model is\n",
      "    the one specified in your Keras config at `~/.keras/keras.json`.\n",
      "    # Arguments\n",
      "        width_coefficient: float, scaling coefficient for network width.\n",
      "        depth_coefficient: float, scaling coefficient for network depth.\n",
      "        default_resolution: int, default input image size.\n",
      "        dropout_rate: float, dropout rate before final classifier layer.\n",
      "        drop_connect_rate: float, dropout rate at skip connections.\n",
      "        depth_divisor: int.\n",
      "        blocks_args: A list of BlockArgs to construct block modules.\n",
      "        model_name: string, model name.\n",
      "        include_top: whether to include the fully-connected\n",
      "            layer at the top of the network.\n",
      "        weights: one of `None` (random initialization),\n",
      "              'imagenet' (pre-training on ImageNet),\n",
      "              or the path to the weights file to be loaded.\n",
      "        input_tensor: optional Keras tensor\n",
      "            (i.e. output of `layers.Input()`)\n",
      "            to use as image input for the model.\n",
      "        input_shape: optional shape tuple, only to be specified\n",
      "            if `include_top` is False.\n",
      "            It should have exactly 3 inputs channels.\n",
      "        pooling: optional pooling mode for feature extraction\n",
      "            when `include_top` is `False`.\n",
      "            - `None` means that the output of the model will be\n",
      "                the 4D tensor output of the\n",
      "                last convolutional layer.\n",
      "            - `avg` means that global average pooling\n",
      "                will be applied to the output of the\n",
      "                last convolutional layer, and thus\n",
      "                the output of the model will be a 2D tensor.\n",
      "            - `max` means that global max pooling will\n",
      "                be applied.\n",
      "        classes: optional number of classes to classify images\n",
      "            into, only to be specified if `include_top` is True, and\n",
      "            if no `weights` argument is specified.\n",
      "    # Returns\n",
      "        A Keras model instance.\n",
      "    # Raises\n",
      "        ValueError: in case of invalid argument for `weights`,\n",
      "            or invalid input shape.\n",
      "\n"
     ]
    }
   ],
   "source": [
    "help(efn.EfficientNetB4)"
   ]
  },
  {
   "cell_type": "code",
   "execution_count": 31,
   "metadata": {},
   "outputs": [
    {
     "name": "stdout",
     "output_type": "stream",
     "text": [
      "(32, 10, 1, 1792)\n",
      "(32, 10, 1, 1792)\n",
      "(32, 10, 1, 1792)\n",
      "(32, 10, 1, 1792)\n",
      "(12, 10, 1, 1792)\n"
     ]
    }
   ],
   "source": [
    "iter_ = iter(data)\n",
    "while True:\n",
    "    try:\n",
    "        c = next(iter_)\n",
    "        print(model(c[0]).shape)\n",
    "    except StopIteration:\n",
    "        break"
   ]
  },
  {
   "cell_type": "code",
   "execution_count": null,
   "metadata": {},
   "outputs": [],
   "source": []
  }
 ],
 "metadata": {
  "kernelspec": {
   "display_name": "Python 3",
   "language": "python",
   "name": "python3"
  },
  "language_info": {
   "codemirror_mode": {
    "name": "ipython",
    "version": 3
   },
   "file_extension": ".py",
   "mimetype": "text/x-python",
   "name": "python",
   "nbconvert_exporter": "python",
   "pygments_lexer": "ipython3",
   "version": "3.6.8"
  }
 },
 "nbformat": 4,
 "nbformat_minor": 4
}
