{
 "cells": [
  {
   "cell_type": "code",
   "execution_count": 1,
   "metadata": {},
   "outputs": [],
   "source": [
    "import pandas as pd\n",
    "import project_types as pt\n",
    "import tensorflow as tf\n",
    "import numpy as np\n",
    "import matplotlib.pyplot as plt\n",
    "import sys\n",
    "import codebase as cb\n",
    "from IPython.display import Markdown\n",
    "\n",
    "plt.rcParams['figure.figsize'] = [8, 8]\n",
    "\n",
    "def pmark(s):\n",
    "    display(Markdown(s))\n",
    "\n",
    "\n",
    "from importlib import reload\n",
    "reload(cb);\n",
    "reload(pt);"
   ]
  },
  {
   "cell_type": "code",
   "execution_count": 2,
   "metadata": {},
   "outputs": [],
   "source": [
    "pict = pd.read_csv(pt.pict_info)"
   ]
  },
  {
   "cell_type": "markdown",
   "metadata": {},
   "source": [
    "# Loading the data"
   ]
  },
  {
   "cell_type": "code",
   "execution_count": 4,
   "metadata": {},
   "outputs": [
    {
     "data": {
      "text/markdown": [
       "Image acceppeted (i.e. sufficient size): 18672"
      ],
      "text/plain": [
       "<IPython.core.display.Markdown object>"
      ]
     },
     "metadata": {},
     "output_type": "display_data"
    },
    {
     "data": {
      "text/markdown": [
       "&emsp; ├── architecture: 9336"
      ],
      "text/plain": [
       "<IPython.core.display.Markdown object>"
      ]
     },
     "metadata": {},
     "output_type": "display_data"
    },
    {
     "data": {
      "text/markdown": [
       "&emsp; ├── pictures: 9336"
      ],
      "text/plain": [
       "<IPython.core.display.Markdown object>"
      ]
     },
     "metadata": {},
     "output_type": "display_data"
    }
   ],
   "source": [
    "pict_df, arch_df = cb.load_data(max_size=[2000, 2000])\n",
    "\n",
    "art_or_building = cb.get_art_or_building(pict_df, arch_df)\n",
    "pmark(f'Image indexed: {len(art_or_building)}')\n",
    "pmark(f'&emsp; ├── architecture: {len(art_or_building[art_or_building.art_class==\"architecture\"])}')\n",
    "pmark(f'&emsp; ├── pictures: {len(art_or_building[art_or_building.art_class==\"picture\"])}')"
   ]
  },
  {
   "cell_type": "markdown",
   "metadata": {},
   "source": [
    "# Images size"
   ]
  },
  {
   "cell_type": "code",
   "execution_count": 19,
   "metadata": {},
   "outputs": [
    {
     "data": {
      "text/markdown": [
       "tot. 18780"
      ],
      "text/plain": [
       "<IPython.core.display.Markdown object>"
      ]
     },
     "metadata": {},
     "output_type": "display_data"
    },
    {
     "data": {
      "text/markdown": [
       "├── architetcure: 9390</br>├── pictures: 9390"
      ],
      "text/plain": [
       "<IPython.core.display.Markdown object>"
      ]
     },
     "metadata": {},
     "output_type": "display_data"
    },
    {
     "data": {
      "image/png": "[encoded data removed]",
      "text/plain": [
       "<Figure size 432x288 with 2 Axes>"
      ]
     },
     "metadata": {
      "needs_background": "light"
     },
     "output_type": "display_data"
    }
   ],
   "source": [
    "bins = 75\n",
    "\n",
    "class_arch, class_pic = art_or_building.art_class.value_counts()\n",
    "pmark(f'tot. {len(art_or_building)}')\n",
    "pmark(f'├── architetcure: {class_arch}</br>├── pictures: {class_pic}')\n",
    "\n",
    "for idx, col in enumerate(['width', 'height']):\n",
    "    ax = plt.subplot(2,1,idx+1)\n",
    "    plt.ylim([0, 1500])\n",
    "    ax.title.set_text(col)\n",
    "    plt.hist(arch_df[col], \n",
    "             bins, histtype='bar', alpha = 0.4, color= 'c', label='architecture')\n",
    "    plt.hist(pict_df[col], \n",
    "             bins, histtype='bar', alpha = 0.4, color= 'g', label='picture')\n",
    "\n",
    "plt.tight_layout()\n",
    "plt.legend()    \n",
    "plt.show()"
   ]
  },
  {
   "cell_type": "markdown",
   "metadata": {},
   "source": [
    "# One hot"
   ]
  },
  {
   "cell_type": "code",
   "execution_count": null,
   "metadata": {},
   "outputs": [],
   "source": []
  }
 ],
 "metadata": {
  "kernelspec": {
   "display_name": "Python 3",
   "language": "python",
   "name": "python3"
  },
  "language_info": {
   "codemirror_mode": {
    "name": "ipython",
    "version": 3
   },
   "file_extension": ".py",
   "mimetype": "text/x-python",
   "name": "python",
   "nbconvert_exporter": "python",
   "pygments_lexer": "ipython3",
   "version": "3.7.4"
  }
 },
 "nbformat": 4,
 "nbformat_minor": 4
}
