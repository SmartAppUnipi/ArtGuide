{
 "cells": [
  {
   "cell_type": "code",
   "execution_count": 196,
   "metadata": {},
   "outputs": [],
   "source": [
    "import pandas as pd\n",
    "import project_types as pt\n",
    "import tensorflow as tf\n",
    "import numpy as np\n",
    "import matplotlib.pyplot as plt\n",
    "import sys\n",
    "import codebase as cb\n",
    "from IPython.display import Markdown\n",
    "\n",
    "plt.rcParams['figure.figsize'] = [8, 8]\n",
    "\n",
    "def pmark(s):\n",
    "    display(Markdown(s))\n",
    "\n",
    "\n",
    "from importlib import reload\n",
    "reload(cb);\n",
    "reload(pt);"
   ]
  },
  {
   "cell_type": "code",
   "execution_count": 164,
   "metadata": {},
   "outputs": [],
   "source": [
    "pict = pd.read_csv(pt.pict_info)"
   ]
  },
  {
   "cell_type": "markdown",
   "metadata": {},
   "source": [
    "# Loading the data"
   ]
  },
  {
   "cell_type": "code",
   "execution_count": 165,
   "metadata": {},
   "outputs": [],
   "source": [
    "pict_df, arch_df = cb.load_data()\n",
    "\n",
    "# Compute the art_or_building dataset\n",
    "art_or_building = cb.get_art_or_building(pict_df, arch_df)\n",
    "\n",
    "# Sample only some values by stratified sampling\n",
    "art_or_building = cb.stratified_sample(art_or_building, col='art_class', frac=.1)\n",
    "# Load images data\n",
    "art_or_building = cb.load_imgs(art_or_building)"
   ]
  },
  {
   "cell_type": "code",
   "execution_count": 188,
   "metadata": {},
   "outputs": [
    {
     "data": {
      "text/markdown": [
       "Image loaded: 186"
      ],
      "text/plain": [
       "<IPython.core.display.Markdown object>"
      ]
     },
     "metadata": {},
     "output_type": "display_data"
    }
   ],
   "source": [
    "pmark(f'Image loaded: {len(art_or_building)}')"
   ]
  },
  {
   "cell_type": "markdown",
   "metadata": {},
   "source": [
    "# Images size"
   ]
  },
  {
   "cell_type": "code",
   "execution_count": 203,
   "metadata": {},
   "outputs": [
    {
     "data": {
      "image/png": "[encoded data removed]",
      "text/plain": [
       "<Figure size 576x576 with 2 Axes>"
      ]
     },
     "metadata": {
      "needs_background": "light"
     },
     "output_type": "display_data"
    }
   ],
   "source": [
    "get_size = lambda x: pd.Series([x.img.shape[0],x.img.shape[1]])\n",
    "art_or_building[['width', 'height']] = art_or_building.apply(get_size, axis=1)\n",
    "\n",
    "bins = 75\n",
    "\n",
    "for idx, col in enumerate(['width', 'height']):\n",
    "    ax = plt.subplot(2,1,idx+1)\n",
    "    ax.title.set_text(col)\n",
    "    plt.hist(art_or_building[art_or_building['art_class']=='picture'][col], \n",
    "             bins, histtype='bar', alpha = 0.5, color= 'g', label='picture')\n",
    "    plt.hist(art_or_building[art_or_building['art_class']=='architecture'][col], \n",
    "             bins, histtype='bar', alpha = 0.5, color= 'c', label='architecture')\n",
    "\n",
    "plt.legend()    \n",
    "plt.show()"
   ]
  },
  {
   "cell_type": "code",
   "execution_count": null,
   "metadata": {},
   "outputs": [],
   "source": []
  }
 ],
 "metadata": {
  "kernelspec": {
   "display_name": "Python 3",
   "language": "python",
   "name": "python3"
  },
  "language_info": {
   "codemirror_mode": {
    "name": "ipython",
    "version": 3
   },
   "file_extension": ".py",
   "mimetype": "text/x-python",
   "name": "python",
   "nbconvert_exporter": "python",
   "pygments_lexer": "ipython3",
   "version": "3.7.4"
  }
 },
 "nbformat": 4,
 "nbformat_minor": 4
}
