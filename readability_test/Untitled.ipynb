{
 "cells": [
  {
   "cell_type": "code",
   "execution_count": 1,
   "metadata": {
    "scrolled": true
   },
   "outputs": [
    {
     "name": "stdout",
     "output_type": "stream",
     "text": [
      "Requirement already satisfied: spacy-readability in c:\\users\\utente\\anaconda3\\lib\\site-packages (1.4.1)\n",
      "Requirement already satisfied: spacy<3.0,>=2.0 in c:\\users\\utente\\anaconda3\\lib\\site-packages (from spacy-readability) (2.1.3)\n",
      "Requirement already satisfied: syllapy<1,>=0 in c:\\users\\utente\\anaconda3\\lib\\site-packages (from spacy-readability) (0.7.1)\n",
      "Requirement already satisfied: thinc<7.1.0,>=7.0.2 in c:\\users\\utente\\anaconda3\\lib\\site-packages (from spacy<3.0,>=2.0->spacy-readability) (7.0.8)\n",
      "Requirement already satisfied: wasabi<1.1.0,>=0.2.0 in c:\\users\\utente\\anaconda3\\lib\\site-packages (from spacy<3.0,>=2.0->spacy-readability) (0.4.0)\n",
      "Requirement already satisfied: srsly<1.1.0,>=0.0.5 in c:\\users\\utente\\anaconda3\\lib\\site-packages (from spacy<3.0,>=2.0->spacy-readability) (0.2.0)\n",
      "Requirement already satisfied: plac<1.0.0,>=0.9.6 in c:\\users\\utente\\anaconda3\\lib\\site-packages (from spacy<3.0,>=2.0->spacy-readability) (0.9.6)\n",
      "Requirement already satisfied: cymem<2.1.0,>=2.0.2 in c:\\users\\utente\\anaconda3\\lib\\site-packages (from spacy<3.0,>=2.0->spacy-readability) (2.0.2)\n",
      "Requirement already satisfied: numpy>=1.15.0 in c:\\users\\utente\\anaconda3\\lib\\site-packages (from spacy<3.0,>=2.0->spacy-readability) (1.16.4)\n",
      "Requirement already satisfied: blis<0.3.0,>=0.2.2 in c:\\users\\utente\\anaconda3\\lib\\site-packages (from spacy<3.0,>=2.0->spacy-readability) (0.2.4)\n",
      "Requirement already satisfied: preshed<2.1.0,>=2.0.1 in c:\\users\\utente\\anaconda3\\lib\\site-packages (from spacy<3.0,>=2.0->spacy-readability) (2.0.1)\n",
      "Requirement already satisfied: murmurhash<1.1.0,>=0.28.0 in c:\\users\\utente\\anaconda3\\lib\\site-packages (from spacy<3.0,>=2.0->spacy-readability) (1.0.2)\n",
      "Requirement already satisfied: requests<3.0.0,>=2.13.0 in c:\\users\\utente\\anaconda3\\lib\\site-packages (from spacy<3.0,>=2.0->spacy-readability) (2.22.0)\n",
      "Requirement already satisfied: jsonschema<3.0.0,>=2.6.0 in c:\\users\\utente\\anaconda3\\lib\\site-packages (from spacy<3.0,>=2.0->spacy-readability) (2.6.0)\n",
      "Requirement already satisfied: ujson<2.0,>=1.35 in c:\\users\\utente\\anaconda3\\lib\\site-packages (from syllapy<1,>=0->spacy-readability) (1.35)\n",
      "Requirement already satisfied: tqdm<5.0.0,>=4.10.0 in c:\\users\\utente\\anaconda3\\lib\\site-packages (from thinc<7.1.0,>=7.0.2->spacy<3.0,>=2.0->spacy-readability) (4.32.1)\n",
      "Requirement already satisfied: urllib3!=1.25.0,!=1.25.1,<1.26,>=1.21.1 in c:\\users\\utente\\anaconda3\\lib\\site-packages (from requests<3.0.0,>=2.13.0->spacy<3.0,>=2.0->spacy-readability) (1.24.2)\n",
      "Requirement already satisfied: chardet<3.1.0,>=3.0.2 in c:\\users\\utente\\anaconda3\\lib\\site-packages (from requests<3.0.0,>=2.13.0->spacy<3.0,>=2.0->spacy-readability) (3.0.4)\n",
      "Requirement already satisfied: certifi>=2017.4.17 in c:\\users\\utente\\anaconda3\\lib\\site-packages (from requests<3.0.0,>=2.13.0->spacy<3.0,>=2.0->spacy-readability) (2019.6.16)\n",
      "Requirement already satisfied: idna<2.9,>=2.5 in c:\\users\\utente\\anaconda3\\lib\\site-packages (from requests<3.0.0,>=2.13.0->spacy<3.0,>=2.0->spacy-readability) (2.8)\n"
     ]
    }
   ],
   "source": [
    "!pip install spacy-readability"
   ]
  },
  {
   "cell_type": "code",
   "execution_count": 2,
   "metadata": {},
   "outputs": [],
   "source": [
    "import spacy\n",
    "from spacy_readability import Readability\n",
    "import os"
   ]
  },
  {
   "cell_type": "code",
   "execution_count": 3,
   "metadata": {},
   "outputs": [
    {
     "name": "stdout",
     "output_type": "stream",
     "text": [
      "Requirement already satisfied: en_core_web_sm==2.1.0 from https://github.com/explosion/spacy-models/releases/download/en_core_web_sm-2.1.0/en_core_web_sm-2.1.0.tar.gz#egg=en_core_web_sm==2.1.0 in c:\\users\\utente\\anaconda3\\lib\\site-packages (2.1.0)\n",
      "[+] Download and installation successful\n",
      "You can now load the model via spacy.load('en_core_web_sm')\n"
     ]
    }
   ],
   "source": [
    "!python -m spacy download en_core_web_sm"
   ]
  },
  {
   "cell_type": "code",
   "execution_count": 4,
   "metadata": {},
   "outputs": [],
   "source": [
    "nlp = spacy.load(\"en_core_web_sm\")\n",
    "read = Readability()\n",
    "nlp.add_pipe(read, last=True)"
   ]
  },
  {
   "cell_type": "code",
   "execution_count": 5,
   "metadata": {},
   "outputs": [
    {
     "name": "stdout",
     "output_type": "stream",
     "text": [
      "Reading .\\data\\A2.txt...\n",
      "Reading .\\data\\B1.txt...\n",
      "Reading .\\data\\B2.txt...\n",
      "Reading .\\data\\C1.txt...\n",
      "Reading .\\data\\C2.txt...\n"
     ]
    }
   ],
   "source": [
    "directory = os.path.join(\".\", \"data\")\n",
    "documents = {}\n",
    "for filename in os.listdir(directory):\n",
    "    if filename.endswith(\".txt\"): \n",
    "        print(\"Reading \"+os.path.join(directory, filename)+\"...\")\n",
    "        f = open(os.path.join(directory, filename), \"r\")\n",
    "        documents[filename] = f.read()\n",
    "        f.close()"
   ]
  },
  {
   "cell_type": "code",
   "execution_count": 6,
   "metadata": {
    "scrolled": true
   },
   "outputs": [
    {
     "name": "stdout",
     "output_type": "stream",
     "text": [
      "{'Flesch Grade': [], 'Flesch Ease': [], 'Dale Chall': [], 'Smog': [], 'Coleman': [], 'Automated': [], 'Forcast': []}\n",
      "A2.txt: Spring House is located in one of the most beautiful parts of Sussex, close to the Sussex Downs and ...\n",
      "Flesch grade level: 5.906691176470588\n",
      "Flesch ease: 71.63886029411765\n",
      "Dale Chall: 8.807617647058823\n",
      "Smog: 0\n",
      "Coleman Lieau: 9.361411764705881\n",
      "Automated: 6.462794117647057\n",
      "Forcast: 12.8\n",
      "\n",
      "B1.txt:  I am interested in this job because I am currently looking for an opportunity to use the skills I l...\n",
      "Flesch grade level: 8.31874074074074\n",
      "Flesch ease: 64.27533333333334\n",
      "Dale Chall: 8.338785432098765\n",
      "Smog: 0\n",
      "Coleman Lieau: 8.90543209876543\n",
      "Automated: 7.952222222222218\n",
      "Forcast: 12.2\n",
      "\n",
      "B2.txt: We are looking for recent graduates who would like to work with some of the most important companies...\n",
      "Flesch grade level: 11.533786307053944\n",
      "Flesch ease: 48.14170297372064\n",
      "Dale Chall: 10.594832503457814\n",
      "Smog: 0\n",
      "Coleman Lieau: 12.833692946058086\n",
      "Automated: 12.767517289073304\n",
      "Forcast: 13.3\n",
      "\n",
      "C1.txt: This book examines how the ever-changing role of colour in society has been reflected in manuscripts...\n",
      "Flesch grade level: 10.797579800498756\n",
      "Flesch ease: 53.36055922693268\n",
      "Dale Chall: 10.025568528678305\n",
      "Smog: 22.690564304852025\n",
      "Coleman Lieau: 10.12947630922693\n",
      "Automated: 10.547593516209474\n",
      "Forcast: 12.5\n",
      "\n",
      "C2.txt: In this book we travel back in time and across the globe, to see how we have shaped our world and be...\n",
      "Flesch grade level: 9.484558361423758\n",
      "Flesch ease: 56.528783494258164\n",
      "Dale Chall: 8.503114340398788\n",
      "Smog: 20.575051710553268\n",
      "Coleman Lieau: 10.389067017082787\n",
      "Automated: 9.252921784836886\n",
      "Forcast: 10.7\n",
      "\n"
     ]
    }
   ],
   "source": [
    "results = {}\n",
    "measures = ['Flesch Grade', 'Flesch Ease', 'Dale Chall', 'Smog', 'Coleman', 'Automated', 'Forcast']\n",
    "for measure in measures:\n",
    "    results[measure] = []\n",
    "print(results)\n",
    "\n",
    "for document in documents:\n",
    "    print(document+\": \"+documents[document][:100]+\"...\")\n",
    "    doc = nlp(documents[document])\n",
    "    print(\"Flesch grade level: \"+str(doc._.flesch_kincaid_grade_level))\n",
    "    results[\"Flesch Grade\"].append(doc._.flesch_kincaid_grade_level)\n",
    "    print(\"Flesch ease: \"+str(doc._.flesch_kincaid_reading_ease))\n",
    "    results[\"Flesch Ease\"].append(doc._.flesch_kincaid_reading_ease)\n",
    "    print(\"Dale Chall: \"+str(doc._.dale_chall))\n",
    "    results[\"Dale Chall\"].append(doc._.dale_chall)\n",
    "    print(\"Smog: \"+str(doc._.smog))\n",
    "    results[\"Smog\"].append(doc._.smog)\n",
    "    print(\"Coleman Lieau: \"+str(doc._.coleman_liau_index))\n",
    "    results[\"Coleman\"].append(doc._.coleman_liau_index)\n",
    "    print(\"Automated: \"+str(doc._.automated_readability_index))\n",
    "    results[\"Automated\"].append(doc._.automated_readability_index)\n",
    "    print(\"Forcast: \"+str(doc._.forcast))\n",
    "    results[\"Forcast\"].append(doc._.forcast)\n",
    "    \n",
    "    print()"
   ]
  },
  {
   "cell_type": "code",
   "execution_count": 20,
   "metadata": {},
   "outputs": [
    {
     "data": {
      "image/png": "[encoded data removed]",
      "text/plain": [
       "<Figure size 432x288 with 1 Axes>"
      ]
     },
     "metadata": {
      "needs_background": "light"
     },
     "output_type": "display_data"
    }
   ],
   "source": [
    "from numpy import *\n",
    "import math\n",
    "import matplotlib.pyplot as plt\n",
    "\n",
    "x = range(len(documents))\n",
    "a = results[\"Flesch Grade\"]\n",
    "b = results[\"Flesch Ease\"]\n",
    "c = results[\"Dale Chall\"]\n",
    "d = results[\"Smog\"]\n",
    "e = results[\"Coleman\"]\n",
    "f = results[\"Automated\"]\n",
    "g = results[\"Forcast\"]\n",
    "\n",
    "plt.plot(x, a, 'r', label=\"Flesch Grade\") \n",
    "plt.plot(x, b, 'b', label=\"Flesch Ease\")\n",
    "plt.plot(x, c, 'g', label=\"Dale Chall\")\n",
    "plt.plot(x, d, 'y', label=\"Smog\") \n",
    "plt.plot(x, e, 'c', label=\"Coleman\")\n",
    "plt.plot(x, f, 'm', label=\"Automated\")\n",
    "plt.plot(x, g, 'k', label=\"Forcast\")\n",
    "plt.xlabel(\"Increasing Level Exams\")\n",
    "plt.ylabel(\"Value\")\n",
    "plt.legend()\n",
    "plt.show()"
   ]
  }
 ],
 "metadata": {
  "kernelspec": {
   "display_name": "Python 3",
   "language": "python",
   "name": "python3"
  },
  "language_info": {
   "codemirror_mode": {
    "name": "ipython",
    "version": 3
   },
   "file_extension": ".py",
   "mimetype": "text/x-python",
   "name": "python",
   "nbconvert_exporter": "python",
   "pygments_lexer": "ipython3",
   "version": "3.7.3"
  }
 },
 "nbformat": 4,
 "nbformat_minor": 2
}
